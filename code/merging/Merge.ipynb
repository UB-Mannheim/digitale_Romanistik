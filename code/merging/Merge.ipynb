{
 "cells": [
  {
   "attachments": {},
   "cell_type": "markdown",
   "metadata": {},
   "source": [
    "# 1. Notwendige Packages installieren (muss nur einmalig ausgeführt werden)"
   ]
  },
  {
   "cell_type": "code",
   "execution_count": 4,
   "metadata": {},
   "outputs": [
    {
     "name": "stdout",
     "output_type": "stream",
     "text": [
      "ok!\n"
     ]
    }
   ],
   "source": [
    "import os\n",
    "os.system(\"pip install pandas\")\n",
    "os.system(\"pip install openpyxl\")\n",
    "print(\"ok!\")"
   ]
  },
  {
   "attachments": {},
   "cell_type": "markdown",
   "metadata": {},
   "source": [
    "# 2. Laden der einzelnen Tabellenblätter"
   ]
  },
  {
   "cell_type": "code",
   "execution_count": 7,
   "metadata": {},
   "outputs": [],
   "source": [
    "import pandas\n",
    "\n",
    "# Hinweis 1: die Excel-Datei darf während der Ausführung nicht geöffnet sein\n",
    "# Hinweis 2: ich habe die Tabellen in T1 und T2 umbenannt\n",
    "# Hinweis 3: Außerdem waren in einer Tabelle die Spaltennamen nicht in der ersten Zeile - das ist wichtig für pandas\n",
    "# Hinweis 4: Außerdem habe ich den Namen der Spalte mit den Daitenamen vereinheitlicht (auch das ist wichtig für pandas)\n",
    "\n",
    "df1 = pandas.read_excel(\"Excel.xlsx\", sheet_name=\"T1\") # laden des Tabellenblattes \"all_metadata_18\" aus der Excel-Datei \"Excel.xlsx\"\n",
    "df2 = pandas.read_excel(\"Excel.xlsx\", sheet_name=\"T2\") # laden des Tabellenblattes \"all_metadata_18\" aus der Excel-Datei \"Excel.xlsx\"\n",
    "\n",
    "\n",
    "df3 = pandas.merge(df1, df2, on=\"Dateiname\", how=\"inner\") # Zusammenfügen der Tabellenblätter auf Basis der Spalte \"Dateiname\"\n",
    "df3.to_excel(\"OUTPUT.xlsx\", sheet_name=\"T3\", index=False) # Speichern der Tabelle in der Excel-Datei \"OUTPUT.xlsx\" unter dem Tabellenblatt \"T3\""
   ]
  }
 ],
 "metadata": {
  "kernelspec": {
   "display_name": "Python 3",
   "language": "python",
   "name": "python3"
  },
  "language_info": {
   "codemirror_mode": {
    "name": "ipython",
    "version": 3
   },
   "file_extension": ".py",
   "mimetype": "text/x-python",
   "name": "python",
   "nbconvert_exporter": "python",
   "pygments_lexer": "ipython3",
   "version": "3.9.13"
  },
  "orig_nbformat": 4
 },
 "nbformat": 4,
 "nbformat_minor": 2
}

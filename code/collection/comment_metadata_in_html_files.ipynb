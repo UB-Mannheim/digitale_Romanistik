{
 "cells": [
  {
   "cell_type": "markdown",
   "id": "f8afe746-0d44-4c40-960a-a694b9b04ca1",
   "metadata": {},
   "source": [
    "# Comment metadata in HTML files\n"
   ]
  },
  {
   "cell_type": "code",
   "execution_count": 70,
   "id": "348956b3-4f98-4a68-a836-64c0531690a9",
   "metadata": {},
   "outputs": [
    {
     "name": "stderr",
     "output_type": "stream",
     "text": [
      "11340it [00:39, 284.20it/s]\n"
     ]
    }
   ],
   "source": [
    "from pathlib import Path\n",
    "import re\n",
    "from tqdm import tqdm\n",
    "\n",
    "errors = []\n",
    "path = Path(\"./data_without_metadata\")\n",
    "for p in tqdm(path.rglob(\"*.html\")):\n",
    "    with open(p.resolve(), 'r') as f:\n",
    "        html = f.read()\n",
    "        erster = [m.start() for m in re.finditer('<p>Rappel de votre demande:', html)]\n",
    "        zweite = [m.start() for m in re.finditer('%.<br/> </p><hr>', html)]\n",
    "        lenbr = len('%.<br/> </p><hr>') \n",
    "        newhtml = html[0:erster[0]] + '<!--' + html[erster[0]: zweite[0] + lenbr] + '-->' + html[zweite[0]+lenbr:] \n",
    "    with open(p.resolve(), 'w') as f:\n",
    "        f.write(newhtml)\n"
   ]
  },
  {
   "cell_type": "code",
   "execution_count": null,
   "id": "familiar-munich",
   "metadata": {},
   "outputs": [],
   "source": []
  }
 ],
 "metadata": {
  "kernelspec": {
   "display_name": "Python 3",
   "language": "python",
   "name": "python3"
  },
  "language_info": {
   "codemirror_mode": {
    "name": "ipython",
    "version": 3
   },
   "file_extension": ".py",
   "mimetype": "text/x-python",
   "name": "python",
   "nbconvert_exporter": "python",
   "pygments_lexer": "ipython3",
   "version": "3.7.4"
  }
 },
 "nbformat": 4,
 "nbformat_minor": 5
}

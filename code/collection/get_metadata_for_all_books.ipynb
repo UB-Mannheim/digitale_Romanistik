{
 "cells": [
  {
   "cell_type": "markdown",
   "id": "f8afe746-0d44-4c40-960a-a694b9b04ca1",
   "metadata": {},
   "source": [
    "# Getting metadata for the corpus from gallica.bnf.fr\n",
    "\n",
    "## Get IDs for the files in the corpus"
   ]
  },
  {
   "cell_type": "code",
   "execution_count": 1,
   "id": "22632e92-1c3d-4fc1-8743-22fe2c4f6882",
   "metadata": {},
   "outputs": [
    {
     "data": {
      "text/plain": [
       "13524"
      ]
     },
     "execution_count": 1,
     "metadata": {},
     "output_type": "execute_result"
    }
   ],
   "source": [
    "import csv\n",
    "ids = []\n",
    "with open('./metadata/records.csv') as file:\n",
    "    reader = csv.reader(file, delimiter=\",\")\n",
    "    next(reader)\n",
    "    for i, line in enumerate(reader):\n",
    "        century = line[0]\n",
    "        identifier = line[2].replace('https://gallica.bnf.fr/','').split('/')[-1]\n",
    "        ids.append([century, identifier])\n",
    "len(ids)"
   ]
  },
  {
   "cell_type": "markdown",
   "id": "b9222bfc-400f-4d28-93c5-fbe63592c105",
   "metadata": {},
   "source": [
    "## Download metadata from the gallica API for all records in XML-format into corpus-folder"
   ]
  },
  {
   "cell_type": "code",
   "execution_count": 2,
   "id": "bab83c36-ed4a-4097-ad1b-eaca4aa3162a",
   "metadata": {},
   "outputs": [
    {
     "name": "stderr",
     "output_type": "stream",
     "text": [
      "100%|██████████| 13524/13524 [1:14:40<00:00,  3.02it/s]  \n"
     ]
    }
   ],
   "source": [
    "import pathlib\n",
    "import urllib\n",
    "from tqdm import tqdm\n",
    "\n",
    "errors = []\n",
    "\n",
    "for i, (century, identifier) in enumerate(tqdm(ids)):\n",
    "    if identifier: \n",
    "        filename = './all_metadata/' + str(century) + '/' + identifier + '.xml'\n",
    "        url = 'https://gallica.bnf.fr/services/OAIRecord?ark=' + identifier\n",
    "        try:\n",
    "            urllib.request.urlretrieve(url, filename)\n",
    "        except Exception:\n",
    "            errors.append([i, century, identifier])\n",
    "\n",
    "with open('./all_metadata/all_metadata_errors.csv', 'w',newline=\"\") as f:\n",
    "    write = csv.writer(f)\n",
    "    write.writerow([\"id\", \"century\", \"identifier\"])\n",
    "    write.writerows(errors)"
   ]
  },
  {
   "cell_type": "markdown",
   "id": "2d5b6fed-b366-447b-8a7b-8d701150fe0e",
   "metadata": {},
   "source": [
    "## Open metadata XML-files and convert them to CSV"
   ]
  },
  {
   "cell_type": "code",
   "execution_count": 8,
   "id": "348956b3-4f98-4a68-a836-64c0531690a9",
   "metadata": {},
   "outputs": [],
   "source": [
    "import xmltodict\n",
    "metadata_headers = ['identifier', 'datestamp', 'setSpec',\n",
    "            '@xmlns:dc', '@xmlns:oai_dc', '@xmlns:xsi', '@xsi:schemaLocation', 'dc:identifier',\n",
    "            'dc:title', 'dc:creator', 'dc:publisher', 'dc:date', 'dc:format', 'dc:language',\n",
    "            'dc:relation', 'dc:type', 'dc:source', 'dc:rights', 'dc:description',\n",
    "            'provenance', 'sdewey', 'dewey', 'source', 'typedoc', 'nqamoyen',\n",
    "            'mode_indexation', 'title', 'date', 'first_indexation_date', 'streamable']\n",
    "\n",
    "centuries = ['18', '19', '20']\n",
    "\n",
    "for century in centuries:\n",
    "\n",
    "    paths = list(pathlib.Path('./all_metadata/' + century + '/').rglob('*.xml'))\n",
    "\n",
    "    metadata_body = []\n",
    "    for path in paths:\n",
    "        with open(path, 'r') as file:\n",
    "            data = file.read()\n",
    "        d = xmltodict.parse(data)\n",
    "\n",
    "        header = [d['results']['notice']['record']['header']['identifier'],\n",
    "            d['results']['notice']['record']['header'].get('datestamp'),\n",
    "            d['results']['notice']['record']['header'].get('setSpec')]\n",
    "\n",
    "        metadata = [d['results']['notice']['record']['metadata']['oai_dc:dc'].get('@xmlns:dc'),\n",
    "                d['results']['notice']['record']['metadata']['oai_dc:dc']['@xmlns:oai_dc'],\n",
    "                d['results']['notice']['record']['metadata']['oai_dc:dc']['@xmlns:xsi'],\n",
    "                d['results']['notice']['record']['metadata']['oai_dc:dc']['@xsi:schemaLocation'],\n",
    "                d['results']['notice']['record']['metadata']['oai_dc:dc']['dc:identifier'],\n",
    "                d['results']['notice']['record']['metadata']['oai_dc:dc']['dc:title'],\n",
    "                d['results']['notice']['record']['metadata']['oai_dc:dc'].get('dc:creator'),\n",
    "                d['results']['notice']['record']['metadata']['oai_dc:dc'].get('dc:publisher'),\n",
    "                d['results']['notice']['record']['metadata']['oai_dc:dc'].get('dc:date'),\n",
    "                d['results']['notice']['record']['metadata']['oai_dc:dc'].get('dc:format'),\n",
    "                d['results']['notice']['record']['metadata']['oai_dc:dc'].get('dc:language'),\n",
    "                d['results']['notice']['record']['metadata']['oai_dc:dc'].get('dc:relation'),\n",
    "                str(d['results']['notice']['record']['metadata']['oai_dc:dc'].get('dc:type')), # make dict\n",
    "                d['results']['notice']['record']['metadata']['oai_dc:dc'].get('dc:source'),\n",
    "                str(d['results']['notice']['record']['metadata']['oai_dc:dc'].get('dc:rights')), # make dict\n",
    "                d['results']['notice']['record']['metadata']['oai_dc:dc'].get('dc:description')]\n",
    "\n",
    "        extra_metadata = [ d['results']['provenance'],\n",
    "                        d['results'].get('sdewey'),\n",
    "                        d['results'].get('dewey'),\n",
    "                        d['results']['source'],\n",
    "                        d['results']['typedoc'],\n",
    "                        d['results']['nqamoyen'],\n",
    "                        d['results'].get('mode_indexation'),\n",
    "                        d['results']['title'],\n",
    "                        str(d['results']['date'].get('#text')), # make dict\n",
    "                        d['results']['first_indexation_date'],\n",
    "                        d['results']['streamable']]\n",
    "\n",
    "        metadata_body.append(header + metadata + extra_metadata)\n",
    "\n",
    "    with open('./all_metadata/all_metadata_' + century + '.csv', 'w',newline=\"\") as f:\n",
    "        write = csv.writer(f)\n",
    "        write.writerow(metadata_headers)\n",
    "        write.writerows(metadata_body)"
   ]
  }
 ],
 "metadata": {
  "kernelspec": {
   "display_name": "Python 3",
   "language": "python",
   "name": "python3"
  },
  "language_info": {
   "codemirror_mode": {
    "name": "ipython",
    "version": 3
   },
   "file_extension": ".py",
   "mimetype": "text/x-python",
   "name": "python",
   "nbconvert_exporter": "python",
   "pygments_lexer": "ipython3",
   "version": "3.7.4"
  }
 },
 "nbformat": 4,
 "nbformat_minor": 5
}

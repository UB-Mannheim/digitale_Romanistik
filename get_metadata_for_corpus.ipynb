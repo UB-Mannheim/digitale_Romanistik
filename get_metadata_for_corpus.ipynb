{
 "cells": [
  {
   "cell_type": "markdown",
   "id": "f8afe746-0d44-4c40-960a-a694b9b04ca1",
   "metadata": {},
   "source": [
    "# Getting metadata for the corpus from gallica.bnf.fr\n",
    "\n",
    "## Get IDs for the files in the corpus"
   ]
  },
  {
   "cell_type": "code",
   "execution_count": null,
   "id": "22632e92-1c3d-4fc1-8743-22fe2c4f6882",
   "metadata": {},
   "outputs": [],
   "source": [
    "import csv\n",
    "ids = []\n",
    "with open('./corpus_metadata/ids_for_19.csv') as file:\n",
    "    for row in file:\n",
    "        #ids.append(row.replace('\\n', '').replace('__', ':/').replace('_', '/'))\n",
    "        ids.append(row.replace('\\n', ''))"
   ]
  },
  {
   "cell_type": "markdown",
   "id": "b9222bfc-400f-4d28-93c5-fbe63592c105",
   "metadata": {},
   "source": [
    "## Download metadata from the gallica API for all records in XML-format into corpus-folder"
   ]
  },
  {
   "cell_type": "code",
   "execution_count": null,
   "id": "bab83c36-ed4a-4097-ad1b-eaca4aa3162a",
   "metadata": {},
   "outputs": [],
   "source": [
    "import pathlib\n",
    "import urllib\n",
    "from tqdm import tqdm\n",
    "\n",
    "for i in tqdm(ids):\n",
    "    identifier = i.split('_')[-1]\n",
    "    if identifier: \n",
    "        filename = './corpus_metadata/19/' + identifier + '.xml'\n",
    "        url = 'https://gallica.bnf.fr/services/OAIRecord?ark=' + identifier\n",
    "        try:\n",
    "            urllib.request.urlretrieve(url, filename)\n",
    "        except Exception:\n",
    "            print(i)"
   ]
  },
  {
   "cell_type": "markdown",
   "id": "2d5b6fed-b366-447b-8a7b-8d701150fe0e",
   "metadata": {},
   "source": [
    "## Open metadata XML-files and convert them to CSV"
   ]
  },
  {
   "cell_type": "code",
   "execution_count": null,
   "id": "348956b3-4f98-4a68-a836-64c0531690a9",
   "metadata": {},
   "outputs": [],
   "source": [
    "#d['results']['notice']['record']\n",
    "import xmltodict\n",
    "metadata_headers = ['identifier', 'datestamp', 'setSpec',\n",
    "            '@xmlns:dc', '@xmlns:oai_dc', '@xmlns:xsi', '@xsi:schemaLocation', 'dc:identifier',\n",
    "            'dc:title', 'dc:creator', 'dc:publisher', 'dc:date', 'dc:format', 'dc:language',\n",
    "            'dc:relation', 'dc:type', 'dc:source', 'dc:rights', 'dc:description',\n",
    "            'provenance', 'sdewey', 'dewey', 'source', 'typedoc', 'nqamoyen',\n",
    "            'mode_indexation', 'title', 'date', 'first_indexation_date', 'streamable']\n",
    "\n",
    "\n",
    "paths = list(pathlib.Path('./corpus_metadata/19/').rglob('*.xml'))\n",
    "\n",
    "metadata_body = []\n",
    "for path in paths:\n",
    "    with open(path, 'r') as file:\n",
    "        data = file.read()\n",
    "    d = xmltodict.parse(data)\n",
    "    \n",
    "    header = [d['results']['notice']['record']['header']['identifier'],\n",
    "        d['results']['notice']['record']['header']['datestamp'],\n",
    "        d['results']['notice']['record']['header']['setSpec']]\n",
    "\n",
    "    metadata = [d['results']['notice']['record']['metadata']['oai_dc:dc']['@xmlns:dc'],\n",
    "            d['results']['notice']['record']['metadata']['oai_dc:dc']['@xmlns:oai_dc'],\n",
    "            d['results']['notice']['record']['metadata']['oai_dc:dc']['@xmlns:xsi'],\n",
    "            d['results']['notice']['record']['metadata']['oai_dc:dc']['@xsi:schemaLocation'],\n",
    "            d['results']['notice']['record']['metadata']['oai_dc:dc']['dc:identifier'],\n",
    "            d['results']['notice']['record']['metadata']['oai_dc:dc']['dc:title'],\n",
    "            d['results']['notice']['record']['metadata']['oai_dc:dc'].get('dc:creator'),\n",
    "            d['results']['notice']['record']['metadata']['oai_dc:dc'].get('dc:publisher'),\n",
    "            d['results']['notice']['record']['metadata']['oai_dc:dc'].get('dc:date'),\n",
    "            d['results']['notice']['record']['metadata']['oai_dc:dc'].get('dc:format'),\n",
    "            d['results']['notice']['record']['metadata']['oai_dc:dc'].get('dc:language'),\n",
    "            d['results']['notice']['record']['metadata']['oai_dc:dc'].get('dc:relation'),\n",
    "            str(d['results']['notice']['record']['metadata']['oai_dc:dc'].get('dc:type')), # make dict\n",
    "            d['results']['notice']['record']['metadata']['oai_dc:dc'].get('dc:source'),\n",
    "            str(d['results']['notice']['record']['metadata']['oai_dc:dc'].get('dc:rights')[0].get('#text')), # make dict\n",
    "            d['results']['notice']['record']['metadata']['oai_dc:dc'].get('dc:description')]\n",
    "\n",
    "    extra_metadata = [ d['results']['provenance'],\n",
    "                    d['results'].get('sdewey'),\n",
    "                    d['results'].get('dewey'),\n",
    "                    d['results']['source'],\n",
    "                    d['results']['typedoc'],\n",
    "                    d['results']['nqamoyen'],\n",
    "                    d['results'].get('mode_indexation'),\n",
    "                    d['results']['title'],\n",
    "                    str(d['results']['date'].get('#text')), # make dict\n",
    "                    d['results']['first_indexation_date'],\n",
    "                    d['results']['streamable']]\n",
    "    \n",
    "    metadata_body.append(header + metadata + extra_metadata)\n",
    "\n",
    "with open('./corpus_metadata/corpus_metadata_19.csv', 'w',newline=\"\") as f:\n",
    "    write = csv.writer(f)\n",
    "    write.writerow(metadata_headers)\n",
    "    write.writerows(metadata_body)\n"
   ]
  },
  {
   "cell_type": "code",
   "execution_count": null,
   "id": "d60b7f18-6b38-4045-925d-2c3ef2cfde49",
   "metadata": {},
   "outputs": [],
   "source": [
    "def request_gallica(query, keywords, filters, startRecord=1):\n",
    "    url='https://gallica.bnf.fr/SRU'\n",
    "    params = {'operation': 'searchRetrieve',\n",
    "              'exactSearch': False,\n",
    "              'version': '1.2',\n",
    "              'query': query,\n",
    "              'collapsing': True,\n",
    "              'keywords': keywords,\n",
    "              'startRecord': startRecord,\n",
    "              'maximumRecords': 50,\n",
    "              'filter': filters,\n",
    "              }\n",
    "    try:\n",
    "        r = requests.get(url, params)\n",
    "        r.raise_for_status()\n",
    "    except Exception: # due to error 500 sometimes\n",
    "        r = requests.get(url, params)\n",
    "        r.raise_for_status()\n",
    "    return BeautifulSoup(r.text, 'lxml')\n",
    "\n",
    "def merge_pages_of_records(soup, link, author):\n",
    "    records = []\n",
    "    for record in soup.find_all(\"srw:record\"):\n",
    "        identifier = record.find('dc:identifier').text\n",
    "        title = record.find('dc:title').text\n",
    "        contributors = [s.text for s in record.find_all('dc:contributor')]\n",
    "        rights = [s.text for s in record.find_all('dc:rights')]\n",
    "        records.append([century, link, identifier, author, title, contributors, rights])\n",
    "    return records\n",
    "\n",
    "records = []\n",
    "errors = []\n",
    "for i, (century, author, link) in tqdm(enumerate(authors)):\n",
    "    if link.startswith('https://gallica.bnf.fr/ark:'):\n",
    "        records.append([century, link, link, author, author, [], []])\n",
    "    else:\n",
    "        parts_of_link = [str(s) for s in link.split('&')]\n",
    "        query = [s.replace('query=', '') for s in parts_of_link if s.startswith('query')]\n",
    "        filters = [s.replace('filter=', '') for s in parts_of_link if s.startswith('filter')]\n",
    "        keywords = [s.replace('keywords=', '') for s in parts_of_link if s.startswith('keywords')]\n",
    "        try:\n",
    "            soup = request_gallica(query, keywords, filters)\n",
    "            number_of_records = int(soup.find(\"srw:numberofrecords\").text)\n",
    "            records.extend( merge_pages_of_records(soup, link, author) )\n",
    "            pages = number_of_records // 50\n",
    "            if pages>0 and number_of_records!=50:\n",
    "                sRecord = 51\n",
    "                for page in range(1,pages+1):\n",
    "                    sRecord += 50 \n",
    "                    soup = request_gallica(query, keywords, filters, startRecord=sRecord)\n",
    "                    records.extend(merge_pages_of_records(soup, link, author))\n",
    "        except Exception:\n",
    "            errors.append([i, century, link, author, sRecord])"
   ]
  },
  {
   "cell_type": "code",
   "execution_count": null,
   "id": "7fbfa2a5-faab-4903-a5f6-e5cf7908db01",
   "metadata": {},
   "outputs": [],
   "source": [
    "print( len(errors), len(records) )"
   ]
  },
  {
   "cell_type": "code",
   "execution_count": null,
   "id": "49b88f5e-4aa7-43ac-b4df-8cd355581999",
   "metadata": {},
   "outputs": [],
   "source": [
    "num = 0\n",
    "for rec in records:\n",
    "    if rec[1].startswith('https://gallica.bnf.fr/ark'):\n",
    "        num += 1\n",
    "num"
   ]
  },
  {
   "cell_type": "code",
   "execution_count": null,
   "id": "1218d459-b19a-4400-9576-7841b5c03bfe",
   "metadata": {},
   "outputs": [],
   "source": [
    "with open(\"./metadata/records.csv\", \"w\", newline=\"\") as f:\n",
    "    writer = csv.writer(f)\n",
    "    writer.writerow(['century', 'link', 'identifier', 'author', 'title', 'contributors', 'rights']) #'link', \n",
    "    writer.writerows(records)\n",
    "\n",
    "with open(\"./metadata/errors.csv\", \"w\", newline=\"\") as f:\n",
    "    writer = csv.writer(f)\n",
    "    writer.writerow(['index', 'century', 'link', 'author', 'startRecord']) # , 'sRecord'\n",
    "    writer.writerows(errors)\n",
    "\n",
    "with open(\"./metadata/authors.csv\", \"w\", newline=\"\") as f:\n",
    "    writer = csv.writer(f)\n",
    "    writer.writerow(['century', 'author', 'link']) # , 'sRecord'\n",
    "    writer.writerows(authors)"
   ]
  }
 ],
 "metadata": {
  "kernelspec": {
   "display_name": "Python 3",
   "language": "python",
   "name": "python3"
  },
  "language_info": {
   "codemirror_mode": {
    "name": "ipython",
    "version": 3
   },
   "file_extension": ".py",
   "mimetype": "text/x-python",
   "name": "python",
   "nbconvert_exporter": "python",
   "pygments_lexer": "ipython3",
   "version": "3.7.6"
  }
 },
 "nbformat": 4,
 "nbformat_minor": 5
}
